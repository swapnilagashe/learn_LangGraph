{
 "cells": [
  {
   "cell_type": "code",
   "execution_count": 1,
   "metadata": {},
   "outputs": [],
   "source": [
    "from langchain.prompts import FewShotPromptTemplate, PromptTemplate\n",
    "import boto3\n",
    "import os\n",
    "from dotenv import load_dotenv\n",
    "import pandas as pd\n",
    "import random\n",
    "from langchain_openai.chat_models import AzureChatOpenAI\n",
    "from langchain_core.messages import AIMessage, BaseMessage, HumanMessage,SystemMessage\n",
    "from langchain_core.prompts import ChatPromptTemplate, MessagesPlaceholder\n",
    "from langchain_experimental.synthetic_data import create_data_generation_chain\n",
    "from langchain_core.output_parsers import JsonOutputParser\n",
    "from langchain_core.pydantic_v1 import BaseModel, Field\n",
    "\n",
    "from typing import List\n",
    "\n",
    "from langchain.output_parsers import PydanticOutputParser\n",
    "from langchain_core.prompts import PromptTemplate\n",
    "from langchain_core.pydantic_v1 import BaseModel, Field, validator\n",
    "from langchain_openai import ChatOpenAI\n",
    "from langchain.output_parsers import PydanticOutputParser\n",
    "\n",
    "from langgraph.graph import END, StateGraph\n",
    "from IPython.display import Image\n",
    "from langchain_core.runnables.graph import CurveStyle, NodeColors, MermaidDrawMethod\n",
    "\n",
    "\n",
    "from typing import TypedDict, Annotated, Sequence\n",
    "import operator\n",
    "from langchain_core.messages import BaseMessage\n"
   ]
  },
  {
   "cell_type": "markdown",
   "metadata": {},
   "source": [
    "### load credentials"
   ]
  },
  {
   "cell_type": "code",
   "execution_count": 2,
   "metadata": {},
   "outputs": [
    {
     "data": {
      "text/plain": [
       "True"
      ]
     },
     "execution_count": 2,
     "metadata": {},
     "output_type": "execute_result"
    }
   ],
   "source": [
    "load_dotenv()"
   ]
  },
  {
   "cell_type": "markdown",
   "metadata": {},
   "source": [
    "## load test data"
   ]
  },
  {
   "cell_type": "code",
   "execution_count": 3,
   "metadata": {},
   "outputs": [
    {
     "data": {
      "text/html": [
       "<div>\n",
       "<style scoped>\n",
       "    .dataframe tbody tr th:only-of-type {\n",
       "        vertical-align: middle;\n",
       "    }\n",
       "\n",
       "    .dataframe tbody tr th {\n",
       "        vertical-align: top;\n",
       "    }\n",
       "\n",
       "    .dataframe thead th {\n",
       "        text-align: right;\n",
       "    }\n",
       "</style>\n",
       "<table border=\"1\" class=\"dataframe\">\n",
       "  <thead>\n",
       "    <tr style=\"text-align: right;\">\n",
       "      <th></th>\n",
       "      <th>instance</th>\n",
       "      <th>easy_form_widget_response_id</th>\n",
       "      <th>updated_at</th>\n",
       "      <th>easy_form_id</th>\n",
       "      <th>easy_form_widget_id</th>\n",
       "      <th>easy_form_response_id</th>\n",
       "      <th>user_submitted_description</th>\n",
       "      <th>easy_form_widget_response_type</th>\n",
       "      <th>backing_attribute</th>\n",
       "      <th>field_name</th>\n",
       "      <th>...</th>\n",
       "      <th>subject_type</th>\n",
       "      <th>status</th>\n",
       "      <th>easy_form_name</th>\n",
       "      <th>easy_form_model</th>\n",
       "      <th>easy_form_status</th>\n",
       "      <th>easy_form_description</th>\n",
       "      <th>form_type</th>\n",
       "      <th>requistion_line_id</th>\n",
       "      <th>header_id</th>\n",
       "      <th>channel</th>\n",
       "    </tr>\n",
       "  </thead>\n",
       "  <tbody>\n",
       "    <tr>\n",
       "      <th>0</th>\n",
       "      <td>cbre</td>\n",
       "      <td>NaN</td>\n",
       "      <td>2023-11-01 11:09:43</td>\n",
       "      <td>NaN</td>\n",
       "      <td>NaN</td>\n",
       "      <td>NaN</td>\n",
       "      <td>\"Warning Trip Hazard\" Sign 210mm x 148mm</td>\n",
       "      <td>NaN</td>\n",
       "      <td>NaN</td>\n",
       "      <td>NaN</td>\n",
       "      <td>...</td>\n",
       "      <td>NaN</td>\n",
       "      <td>NaN</td>\n",
       "      <td>NaN</td>\n",
       "      <td>NaN</td>\n",
       "      <td>NaN</td>\n",
       "      <td>NaN</td>\n",
       "      <td>freeform</td>\n",
       "      <td>5889876.0</td>\n",
       "      <td>3013667.0</td>\n",
       "      <td>freeform</td>\n",
       "    </tr>\n",
       "    <tr>\n",
       "      <th>1</th>\n",
       "      <td>monash</td>\n",
       "      <td>NaN</td>\n",
       "      <td>2023-09-11 00:20:35</td>\n",
       "      <td>NaN</td>\n",
       "      <td>NaN</td>\n",
       "      <td>NaN</td>\n",
       "      <td>DEBDEN DAYPLANNER refil</td>\n",
       "      <td>NaN</td>\n",
       "      <td>NaN</td>\n",
       "      <td>NaN</td>\n",
       "      <td>...</td>\n",
       "      <td>NaN</td>\n",
       "      <td>NaN</td>\n",
       "      <td>NaN</td>\n",
       "      <td>NaN</td>\n",
       "      <td>NaN</td>\n",
       "      <td>NaN</td>\n",
       "      <td>freeform</td>\n",
       "      <td>1091278.0</td>\n",
       "      <td>479534.0</td>\n",
       "      <td>freeform</td>\n",
       "    </tr>\n",
       "  </tbody>\n",
       "</table>\n",
       "<p>2 rows × 24 columns</p>\n",
       "</div>"
      ],
      "text/plain": [
       "  instance  easy_form_widget_response_id          updated_at  easy_form_id  \\\n",
       "0     cbre                           NaN 2023-11-01 11:09:43           NaN   \n",
       "1   monash                           NaN 2023-09-11 00:20:35           NaN   \n",
       "\n",
       "   easy_form_widget_id  easy_form_response_id  \\\n",
       "0                  NaN                    NaN   \n",
       "1                  NaN                    NaN   \n",
       "\n",
       "                 user_submitted_description easy_form_widget_response_type  \\\n",
       "0  \"Warning Trip Hazard\" Sign 210mm x 148mm                            NaN   \n",
       "1                   DEBDEN DAYPLANNER refil                            NaN   \n",
       "\n",
       "  backing_attribute field_name  ... subject_type status  easy_form_name  \\\n",
       "0               NaN        NaN  ...          NaN    NaN             NaN   \n",
       "1               NaN        NaN  ...          NaN    NaN             NaN   \n",
       "\n",
       "  easy_form_model easy_form_status easy_form_description form_type  \\\n",
       "0             NaN              NaN                   NaN  freeform   \n",
       "1             NaN              NaN                   NaN  freeform   \n",
       "\n",
       "  requistion_line_id  header_id   channel  \n",
       "0          5889876.0  3013667.0  freeform  \n",
       "1          1091278.0   479534.0  freeform  \n",
       "\n",
       "[2 rows x 24 columns]"
      ]
     },
     "execution_count": 3,
     "metadata": {},
     "output_type": "execute_result"
    }
   ],
   "source": [
    "test_data_path = \"df_test_v1.xlsx\"\n",
    "test_data = pd.read_excel(test_data_path)\n",
    "test_data.head(2)"
   ]
  },
  {
   "cell_type": "markdown",
   "metadata": {},
   "source": [
    "### generate synthetic data"
   ]
  },
  {
   "cell_type": "code",
   "execution_count": 4,
   "metadata": {},
   "outputs": [],
   "source": [
    "def initialize_llm(**kwargs):\n",
    "    # initialize llm\n",
    "    llm = AzureChatOpenAI(\n",
    "        deployment_name=os.environ[\"AZURE_OPENAI_DEPLOYMENT\"],\n",
    "        api_key=os.environ[\"AZURE_OPENAI_API_KEY\"],\n",
    "        azure_endpoint=os.environ[\"AZURE_OPENAI_ENDPOINT\"],\n",
    "        api_version=os.environ[\"AZURE_OPENAI_API_VERSION\"],\n",
    "        **kwargs\n",
    "    )\n",
    "    return llm\n",
    "\n",
    "llm= initialize_llm(temperature = 0.9)"
   ]
  },
  {
   "cell_type": "markdown",
   "metadata": {},
   "source": [
    "### define personas"
   ]
  },
  {
   "cell_type": "code",
   "execution_count": 5,
   "metadata": {},
   "outputs": [],
   "source": [
    "all_personas = ['verbose','concise','step-by-step','casual','formal','spelling-mistake']\n",
    "personas_attributes = {\n",
    "    'verbose':\n",
    "        'This persona prefers to write longer, complete sentences that are friendly and generally include proper punctuation. They tend to provide detailed explanations with a warm tone.',\n",
    "    'concise':\n",
    "        'This persona opts for direct queries with minimal non-essential text. They typically omit filler phrases to convey information efficiently.',\n",
    "    'step-by-step':\n",
    "        'This persona summarizes the goal of each step before delving into detailed instructions. They provide clear, sequential guidance to aid understanding.',\n",
    "    'casual':\n",
    "        'This persona uses informal language and may not directly reference all the details. They communicate in a relaxed manner, prioritizing ease of comprehension over formality.',\n",
    "    'formal':\n",
    "        'This persona prefers to provide detailed information using formal language. They strive for precision and clarity, often employing professional terminology.',\n",
    "    'spelling-mistake':\n",
    "        'This persona frequently makes spelling mistakes in their writing.'\n",
    "}\n"
   ]
  },
  {
   "cell_type": "code",
   "execution_count": 6,
   "metadata": {},
   "outputs": [],
   "source": [
    "prompt = PromptTemplate.from_template(\"\"\"You are an employee in a corporate business and you have the responsibility to purchase or procure goods or services for your organization.\n",
    "You will be provided with a description of the item or service you need to request.\n",
    "Your task is to present this request to an AI Assistant.\n",
    "Use any crucial information such as quantity, amount, business justification, etc., from the provided fields to create a succinct one-line request.\n",
    "Keep your request short and simple. Use the given description wisely and incorporate only the significant details.\n",
    "You may add more information if necessary. If there are any extra preferences provided, utilize them while framing your sentence.\n",
    "Instructions:\n",
    "-You are a user whose persona aligns with the given persona description. Behave accordingly.\n",
    "Item or Service Description: {item_description}\n",
    "Persona Description: {persona_description}\n",
    "Request:\"\"\")\n",
    "\n",
    "generate = create_data_generation_chain(llm, prompt)"
   ]
  },
  {
   "cell_type": "markdown",
   "metadata": {},
   "source": [
    "### reflection"
   ]
  },
  {
   "cell_type": "code",
   "execution_count": 7,
   "metadata": {},
   "outputs": [],
   "source": [
    "llm_reflection = initialize_llm(temperature=0.5 , streaming=True)\n",
    "\n",
    "reflection_template=\"\"\"\n",
    "Task: Assess the correspondence between the \"Generated Query\" and the specified \"Persona Description\" within the context of training a chatbot for procurement requests.\n",
    "Objective: Evaluate whether the \"Generated Query\" accurately represents the attributes outlined in the \"Persona Description\". Errors can occur anywhere within the entire query, not just limited to the item description. Thus, it's essential to scrutinize each word and sentence structure in the \"Generated Query\".\n",
    "important - For instance, if the Persona Description states that the user tends to make spelling mistakes, then a valid 'Generated Query' will have at least one spelling mistake.\n",
    "Similarly, if the Persona Description indicates that the user writes formally, then a valid 'Generated Query' generated query should not have any casual or informal tone.\n",
    "Original Item or Service Description: {item_description}\n",
    "Persona Description (User Making the Request): {persona_description}\n",
    "Generated Query: {generated_query}\n",
    "important - For instance, if the Persona Description states that the user tends to make spelling mistakes, then a valid 'Generated Query' will have at least one spelling mistake.\n",
    "Similarly, if the Persona Description indicates that the user writes formally, then a valid 'Generated Query' generated query should not have any casual or informal tone.\n",
    "\n",
    "\\n{format_instructions}\\n\"\"\"\n",
    "\n",
    "\n",
    "class IsQueryValid(BaseModel):\n",
    "    observation: str = Field(description=\"all observations\")\n",
    "    valid: bool = Field(description=\"whether 'Generated Query' is valid\")\n",
    "    action: str = Field(description=\"Detailed Recommended actions\")\n",
    "\n",
    "# Set up a parser + inject instructions into the prompt template.\n",
    "reflection_parser = PydanticOutputParser(pydantic_object=IsQueryValid)\n",
    "\n",
    "reflection_prompt = PromptTemplate(\n",
    "    template=reflection_template,\n",
    "    input_variables=['item_description', 'persona_description', 'generated_query'],\n",
    "    partial_variables={\"format_instructions\": reflection_parser.get_format_instructions()},\n",
    ")\n",
    "reflection_chain = reflection_prompt | llm_reflection | reflection_parser"
   ]
  },
  {
   "cell_type": "code",
   "execution_count": 8,
   "metadata": {},
   "outputs": [],
   "source": [
    "prompt_after_reflection = PromptTemplate.from_template(\"\"\"Your task is to refine the provided sentence following the guidance provided below.\n",
    "Original sentence: {generated_query}\n",
    "This sentence was authored by an individual characterized by the following attributes: {persona_description}. \n",
    "However, upon review, it's evident that the sentence does not accurately represent these attributes. Thus, it necessitates modification based on the following observation and recommended actions:\n",
    "Observation: {observation}\n",
    "To rectify this discrepancy, the following action should be taken: {action}\n",
    "\n",
    "\"\"\")\n",
    "\n",
    "generate_after_reflection_chain = create_data_generation_chain(llm, prompt_after_reflection)"
   ]
  },
  {
   "cell_type": "markdown",
   "metadata": {},
   "source": [
    "### create graph"
   ]
  },
  {
   "cell_type": "code",
   "execution_count": 9,
   "metadata": {},
   "outputs": [],
   "source": [
    "class AgentState(TypedDict):\n",
    "    item_description:str\n",
    "    persona_description:str\n",
    "    generated_query:str\n",
    "    valid:bool\n",
    "    observation:str\n",
    "    action:str\n",
    "    iterations:int"
   ]
  },
  {
   "cell_type": "code",
   "execution_count": 10,
   "metadata": {},
   "outputs": [],
   "source": [
    "def generate_synthetic_query(state):\n",
    "    print('state:', state)\n",
    "    args ={}\n",
    "    args['item_description']=state['item_description']\n",
    "    args['persona_description']=state['persona_description']\n",
    "    generated_query = generate.invoke(args)['text']\n",
    "    return {\"generated_query\":generated_query}\n",
    "\n",
    "def reflect(state):\n",
    "    args ={}\n",
    "    args['item_description']=state['item_description']\n",
    "    args['persona_description']=state['persona_description']\n",
    "    args['generated_query']=state['generated_query']\n",
    "    reflection_res = reflection_chain.invoke(args)\n",
    "    return reflection_res.__dict__\n",
    "\n",
    "\n",
    "def should_continue(state):\n",
    "    max_iterations=3\n",
    "    if state['valid']==True or state['iterations']>=max_iterations:\n",
    "        print('Ending as generated query is valid or max iterations reached')\n",
    "        return \"end\"\n",
    "    else:\n",
    "        print('Contining to generation')\n",
    "        return \"continue\"\n",
    "    \n",
    "def generate_after_reflection(state):\n",
    "    args ={}\n",
    "    args['generated_query']=state['generated_query']\n",
    "    args['persona_description']=state['persona_description']\n",
    "    args['observation']=state['observation']\n",
    "    args['action']=state['action']\n",
    "    generated_query_after_reflection = generate_after_reflection_chain.invoke(args)['text']\n",
    "    print(generated_query_after_reflection)\n",
    "\n",
    "    return {\"generated_query\":generated_query_after_reflection,\n",
    "            \"iterations\":state['iterations']+1}"
   ]
  },
  {
   "cell_type": "code",
   "execution_count": 11,
   "metadata": {},
   "outputs": [],
   "source": [
    "workflow = StateGraph(AgentState)\n",
    "\n",
    "# create nodes\n",
    "workflow.add_node(\"initial_generation\",generate_synthetic_query)\n",
    "workflow.add_node(\"reflect\",reflect)\n",
    "workflow.add_node(\"generation_after_reflection\",generate_after_reflection)\n",
    "\n",
    "\n",
    "workflow.set_entry_point(\"initial_generation\")\n",
    "\n",
    "# add conditional edge\n",
    "workflow.add_conditional_edges(\n",
    "    \"reflect\",\n",
    "    should_continue,\n",
    "    {\"continue\":\"generation_after_reflection\",\n",
    "    \"end\":END\n",
    "    }\n",
    ")\n",
    "# add a normal edge\n",
    "# because we always want to go to the agent after going to the action\n",
    "workflow.add_edge(\"initial_generation\",\"reflect\")\n",
    "workflow.add_edge(\"generation_after_reflection\",\"reflect\")\n",
    "\n",
    "app = workflow.compile()"
   ]
  },
  {
   "cell_type": "code",
   "execution_count": 12,
   "metadata": {},
   "outputs": [
    {
     "data": {
      "image/jpeg": "[encoded data removed]",
      "text/plain": [
       "<IPython.core.display.Image object>"
      ]
     },
     "execution_count": 12,
     "metadata": {},
     "output_type": "execute_result"
    }
   ],
   "source": [
    "Image(app.get_graph().draw_mermaid_png(\n",
    "    draw_method=MermaidDrawMethod.API,\n",
    "))"
   ]
  },
  {
   "cell_type": "markdown",
   "metadata": {},
   "source": [
    "### test graph"
   ]
  },
  {
   "cell_type": "code",
   "execution_count": 37,
   "metadata": {},
   "outputs": [
    {
     "data": {
      "text/plain": [
       "'POC Roof Solar System'"
      ]
     },
     "execution_count": 37,
     "metadata": {},
     "output_type": "execute_result"
    }
   ],
   "source": [
    "test_data.sample(1)['user_submitted_description'].values[0]"
   ]
  },
  {
   "cell_type": "code",
   "execution_count": 42,
   "metadata": {},
   "outputs": [
    {
     "data": {
      "text/plain": [
       "('Designing Spaces- 2024 Marketing PIO- Do it Yourself, but not Alone; Innovative Home Repair Solutions for Today’s Homeowners',\n",
       " 'spelling-mistake',\n",
       " 'This persona frequently makes spelling mistakes in their writing.')"
      ]
     },
     "execution_count": 42,
     "metadata": {},
     "output_type": "execute_result"
    }
   ],
   "source": [
    "item_description =test_data.sample(1)['user_submitted_description'].values[0].replace('\"','')\n",
    "persona = 'spelling-mistake'\n",
    "persona_description = 'This persona frequently makes spelling mistakes in their writing.'\n",
    "item_description, persona,persona_description"
   ]
  },
  {
   "cell_type": "code",
   "execution_count": 43,
   "metadata": {},
   "outputs": [],
   "source": [
    "\n",
    "inputs  = {\n",
    "            \"item_description\":item_description,\n",
    "            \"persona\":persona,\n",
    "            \"persona_description\":persona_description,\n",
    "            \"valid\":False,\n",
    "            \"iterations\":0\n",
    "            }"
   ]
  },
  {
   "cell_type": "code",
   "execution_count": 44,
   "metadata": {},
   "outputs": [
    {
     "name": "stdout",
     "output_type": "stream",
     "text": [
      "state: {'item_description': 'Designing Spaces- 2024 Marketing PIO- Do it Yourself, but not Alone; Innovative Home Repair Solutions for Today’s Homeowners', 'persona_description': 'This persona frequently makes spelling mistakes in their writing.', 'generated_query': None, 'valid': False, 'observation': None, 'action': None, 'iterations': 0}\n",
      "output from node initial_generation\n",
      "--------------------------------\n",
      "{'generated_query': 'Please assist in procuring the Designing Spaces- 2024 Marketing PIO, a DIY home repair solution for homeowners.'}\n",
      "--------------------------------\n",
      "\n",
      "Ending as generated query is valid or max iterations reached\n",
      "output from node reflect\n",
      "--------------------------------\n",
      "{'valid': True, 'observation': 'The generated query accurately represents the attributes outlined in the persona description.', 'action': 'No action recommended.'}\n",
      "--------------------------------\n",
      "\n"
     ]
    }
   ],
   "source": [
    "for output in app.stream(inputs):\n",
    "    #print(output)\n",
    "    for key,value in output.items():\n",
    "        print(f\"output from node {key}\")\n",
    "        print(\"--------------------------------\")\n",
    "        print(value)\n",
    "        print(\"--------------------------------\")\n",
    "        print()"
   ]
  },
  {
   "cell_type": "markdown",
   "metadata": {},
   "source": [
    "### Archive"
   ]
  },
  {
   "cell_type": "code",
   "execution_count": null,
   "metadata": {},
   "outputs": [],
   "source": [
    "\n",
    "\n",
    "personas_attributes_string = \"\"\n",
    "for key, value in personas_attributes.items():\n",
    "    personas_attributes_string += \"{} = {}\\n \".format(key, value)\n",
    "\n",
    "# To remove the last comma and space\n",
    "personas_attributes_string = personas_attributes_string[:-2]\n",
    "\n",
    "print(personas_attributes_string)"
   ]
  },
  {
   "cell_type": "code",
   "execution_count": null,
   "metadata": {},
   "outputs": [],
   "source": [
    "reflection_template=\"\"\"You are proficient in analyzing, critiquing, and recommending enhancements to the training data used for educating a chatbot on procurement requests.\n",
    "The chatbot should be capable of generalizing an array of user inquiries.\n",
    "Below are the specifics regarding the generated query along with the original description utilized to generate the query:\n",
    "Original Item or Service Description: {item_description}\n",
    "Persona Description (user making the request): {persona_description}\n",
    "Generated Query: {generated_query}.\n",
    "\n",
    "Your task is to analyse and report whether the 'Generated Query' follows the exact attributes of the Persona Description.\n",
    "\\n{format_instructions}\\n\"\"\""
   ]
  },
  {
   "cell_type": "code",
   "execution_count": null,
   "metadata": {},
   "outputs": [],
   "source": [
    "reflection_template=\"\"\"You are proficient in analyzing, critiquing, and recommending enhancements to the training data used for educating a chatbot on procurement requests.\n",
    "The chatbot should be capable of generalizing an array of user inquiries. It's assumed that the chatbot will only cater to users with the following attributes.\n",
    "{personas_attributes_string}\n",
    "Note that only one of these type of user has generated the query.\n",
    "Below are the specifics regarding the generated query along with the original description utilized to generate the query:\n",
    "Original Item or Service Description: {item_description}\n",
    "Persona Description (Individual making the request): {persona_description}\n",
    "Generated Query: {generated_query}.\n",
    "\n",
    "Your task is to analyse and report whether the 'Generated Query' follows the exact attributes of the Persona Description.\n",
    "Note that uppercase/lowercase does not matter which analyzing the 'Generated Query'.\n",
    "\\n{format_instructions}\\n\"\"\"\n"
   ]
  },
  {
   "cell_type": "code",
   "execution_count": null,
   "metadata": {},
   "outputs": [],
   "source": [
    "\n",
    "def reset_state(state):\n",
    "    pass"
   ]
  },
  {
   "cell_type": "code",
   "execution_count": null,
   "metadata": {},
   "outputs": [],
   "source": [
    "def formatted_reflection_res(reflection_result):\n",
    "    formatted_list_messages =[]\n",
    "    formatted_list_messages.append(f'observation - {reflection_result.observation}')\n",
    "    formatted_list_messages.append(f'reason_for_observation - {reflection_result.reason_for_observation}')\n",
    "    formatted_list_messages.append(f'action - {reflection_result.action}')\n",
    "    formatted_list_messages.append(f'valid - {reflection_result.valid}')\n",
    "    return formatted_list_messages"
   ]
  },
  {
   "cell_type": "code",
   "execution_count": null,
   "metadata": {},
   "outputs": [],
   "source": [
    "reflection_template=\"\"\"You are proficient in analyzing, critiquing, and recommending enhancements to the training data used for educating a chatbot on procurement requests.\n",
    "The chatbot should be capable of generalizing an array of user inquiries. It's assumed that the chatbot will only cater to users with the following attributes.\n",
    "{personas_attributes_string}\n",
    "For instance, if the Persona Description indicates that a user tends to make spelling errors, then at least one spelling mistake should be present in the generated query, otherwise, the query would be deemed invalid.\n",
    "Similarly, if the persona possesses different traits, the generated query should align with those traits.\n",
    "Below are the specifics regarding the generated query along with the original description utilized to generate the query:\n",
    "Original Item or Service Description: {item_description}\n",
    "Persona Description (Individual making the request): {persona_description}\n",
    "Generated Query: {text}.\n",
    "\\n{format_instructions}\\n\"\"\""
   ]
  },
  {
   "cell_type": "code",
   "execution_count": null,
   "metadata": {},
   "outputs": [],
   "source": [
    "\n",
    "\n",
    "ret = generate.invoke({\n",
    "                \"description\": item_description,\n",
    "                \"persona\": persona,\n",
    "                \"persona_description\":persona_description,\n",
    "            })"
   ]
  }
 ],
 "metadata": {
  "kernelspec": {
   "display_name": "llm_tree_search",
   "language": "python",
   "name": "python3"
  },
  "language_info": {
   "codemirror_mode": {
    "name": "ipython",
    "version": 3
   },
   "file_extension": ".py",
   "mimetype": "text/x-python",
   "name": "python",
   "nbconvert_exporter": "python",
   "pygments_lexer": "ipython3",
   "version": "3.11.1"
  }
 },
 "nbformat": 4,
 "nbformat_minor": 2
}
