{
 "cells": [
  {
   "cell_type": "code",
   "execution_count": 16,
   "metadata": {},
   "outputs": [],
   "source": [
    "from langchain.prompts import FewShotPromptTemplate, PromptTemplate\n",
    "import boto3\n",
    "import os\n",
    "from dotenv import load_dotenv\n",
    "import pandas as pd"
   ]
  },
  {
   "cell_type": "code",
   "execution_count": 17,
   "metadata": {},
   "outputs": [],
   "source": [
    "load_dotenv()\n",
    "s3r = boto3.client('s3', \n",
    "                   aws_access_key_id=os.environ[\"DEV_ACCESS_KEY\"], \n",
    "                   aws_secret_access_key=os.environ[\"DEV_SECRET_ACCESS_KEY\"])"
   ]
  },
  {
   "cell_type": "markdown",
   "metadata": {},
   "source": [
    "### Download test data from dev s3"
   ]
  },
  {
   "cell_type": "code",
   "execution_count": 7,
   "metadata": {},
   "outputs": [],
   "source": [
    "name = f\"df_test_v1.xlsx\"\n",
    "fullname = f'swapnil/form_selection_core/excel/' + name\n",
    "s3r.download_file(Bucket = \"datainsights-shared-coupadev-com\", Key = fullname, Filename = name)"
   ]
  },
  {
   "cell_type": "markdown",
   "metadata": {},
   "source": [
    "## load test data"
   ]
  },
  {
   "cell_type": "code",
   "execution_count": 19,
   "metadata": {},
   "outputs": [
    {
     "data": {
      "text/html": [
       "<div>\n",
       "<style scoped>\n",
       "    .dataframe tbody tr th:only-of-type {\n",
       "        vertical-align: middle;\n",
       "    }\n",
       "\n",
       "    .dataframe tbody tr th {\n",
       "        vertical-align: top;\n",
       "    }\n",
       "\n",
       "    .dataframe thead th {\n",
       "        text-align: right;\n",
       "    }\n",
       "</style>\n",
       "<table border=\"1\" class=\"dataframe\">\n",
       "  <thead>\n",
       "    <tr style=\"text-align: right;\">\n",
       "      <th></th>\n",
       "      <th>instance</th>\n",
       "      <th>easy_form_widget_response_id</th>\n",
       "      <th>updated_at</th>\n",
       "      <th>easy_form_id</th>\n",
       "      <th>easy_form_widget_id</th>\n",
       "      <th>easy_form_response_id</th>\n",
       "      <th>user_submitted_description</th>\n",
       "      <th>easy_form_widget_response_type</th>\n",
       "      <th>backing_attribute</th>\n",
       "      <th>field_name</th>\n",
       "      <th>...</th>\n",
       "      <th>subject_type</th>\n",
       "      <th>status</th>\n",
       "      <th>easy_form_name</th>\n",
       "      <th>easy_form_model</th>\n",
       "      <th>easy_form_status</th>\n",
       "      <th>easy_form_description</th>\n",
       "      <th>form_type</th>\n",
       "      <th>requistion_line_id</th>\n",
       "      <th>header_id</th>\n",
       "      <th>channel</th>\n",
       "    </tr>\n",
       "  </thead>\n",
       "  <tbody>\n",
       "    <tr>\n",
       "      <th>0</th>\n",
       "      <td>cbre</td>\n",
       "      <td>NaN</td>\n",
       "      <td>2023-11-01 11:09:43</td>\n",
       "      <td>NaN</td>\n",
       "      <td>NaN</td>\n",
       "      <td>NaN</td>\n",
       "      <td>\"Warning Trip Hazard\" Sign 210mm x 148mm</td>\n",
       "      <td>NaN</td>\n",
       "      <td>NaN</td>\n",
       "      <td>NaN</td>\n",
       "      <td>...</td>\n",
       "      <td>NaN</td>\n",
       "      <td>NaN</td>\n",
       "      <td>NaN</td>\n",
       "      <td>NaN</td>\n",
       "      <td>NaN</td>\n",
       "      <td>NaN</td>\n",
       "      <td>freeform</td>\n",
       "      <td>5889876.0</td>\n",
       "      <td>3013667.0</td>\n",
       "      <td>freeform</td>\n",
       "    </tr>\n",
       "    <tr>\n",
       "      <th>1</th>\n",
       "      <td>monash</td>\n",
       "      <td>NaN</td>\n",
       "      <td>2023-09-11 00:20:35</td>\n",
       "      <td>NaN</td>\n",
       "      <td>NaN</td>\n",
       "      <td>NaN</td>\n",
       "      <td>DEBDEN DAYPLANNER refil</td>\n",
       "      <td>NaN</td>\n",
       "      <td>NaN</td>\n",
       "      <td>NaN</td>\n",
       "      <td>...</td>\n",
       "      <td>NaN</td>\n",
       "      <td>NaN</td>\n",
       "      <td>NaN</td>\n",
       "      <td>NaN</td>\n",
       "      <td>NaN</td>\n",
       "      <td>NaN</td>\n",
       "      <td>freeform</td>\n",
       "      <td>1091278.0</td>\n",
       "      <td>479534.0</td>\n",
       "      <td>freeform</td>\n",
       "    </tr>\n",
       "  </tbody>\n",
       "</table>\n",
       "<p>2 rows × 24 columns</p>\n",
       "</div>"
      ],
      "text/plain": [
       "  instance  easy_form_widget_response_id          updated_at  easy_form_id  \\\n",
       "0     cbre                           NaN 2023-11-01 11:09:43           NaN   \n",
       "1   monash                           NaN 2023-09-11 00:20:35           NaN   \n",
       "\n",
       "   easy_form_widget_id  easy_form_response_id  \\\n",
       "0                  NaN                    NaN   \n",
       "1                  NaN                    NaN   \n",
       "\n",
       "                 user_submitted_description easy_form_widget_response_type  \\\n",
       "0  \"Warning Trip Hazard\" Sign 210mm x 148mm                            NaN   \n",
       "1                   DEBDEN DAYPLANNER refil                            NaN   \n",
       "\n",
       "  backing_attribute field_name  ... subject_type status  easy_form_name  \\\n",
       "0               NaN        NaN  ...          NaN    NaN             NaN   \n",
       "1               NaN        NaN  ...          NaN    NaN             NaN   \n",
       "\n",
       "  easy_form_model easy_form_status easy_form_description form_type  \\\n",
       "0             NaN              NaN                   NaN  freeform   \n",
       "1             NaN              NaN                   NaN  freeform   \n",
       "\n",
       "  requistion_line_id  header_id   channel  \n",
       "0          5889876.0  3013667.0  freeform  \n",
       "1          1091278.0   479534.0  freeform  \n",
       "\n",
       "[2 rows x 24 columns]"
      ]
     },
     "execution_count": 19,
     "metadata": {},
     "output_type": "execute_result"
    }
   ],
   "source": [
    "test_data_path = \"df_test_v1.xlsx\"\n",
    "test_data = pd.read_excel(test_data_path)\n",
    "test_data.head(2)"
   ]
  },
  {
   "cell_type": "code",
   "execution_count": null,
   "metadata": {},
   "outputs": [],
   "source": [
    "all_personas = {\n",
    "    'verbose':\n",
    "        'You write longer complete sentences that are friendlier and generally include punctuation.',\n",
    "    'concise':\n",
    "        'You write direct queries with minimal non-essential text. You usually omit capitalization and filler phrases',\n",
    "    'step-by-step':\n",
    "        'You summarize the goal of each step before explaining the detailed instructions.',\n",
    "    'casual':\n",
    "        'You use informal language that may not directly reference all the details',\n",
    "    'formal':\n",
    "        'You like to provide detailed information and formal language.',\n",
    "    'spelling-mistake':\n",
    "        'You often make spelling mistakes'\n",
    "}\n",
    "\n",
    "def persona_dict(persona):\n",
    "    assert persona in all_personas\n",
    "    return {\"persona_type\": persona, \"persona_description\": all_personas[persona]}\n",
    "\n",
    "# example\n",
    "print(persona_dict('concise'))"
   ]
  },
  {
   "cell_type": "code",
   "execution_count": null,
   "metadata": {},
   "outputs": [],
   "source": [
    "prompt = f\"\"\"\\\n",
    "You work for a corporate business and as an employee, you want to buy/procure some goods or services on behalf of your organisation.\n",
    "You will be given a description of item/service from which you need to construct your request. You will put the request into an AI Assitant.\n",
    "Extract the basic information such as amount, quantity, business justification etc if present, from the given fields in order to create a simple one line request using them.\n",
    "Use only minimal information as you can provide the details later.\n",
    "\n",
    "Make the request concise and simple. Use given description judiciously and include important information. Feel free to add more information.\n",
    "If any additional preferences are given, use them during sentence construction as well.\n",
    "Instructions:\n",
    "- You are a person having a persona that matches the given persona description. Act accordingly.\n",
    "item_or_service_description:\n",
    "{description}\n",
    "Persona description:\n",
    "{persona}:{persona_description}\n",
    "Request:\"\"\"\n"
   ]
  },
  {
   "cell_type": "code",
   "execution_count": null,
   "metadata": {},
   "outputs": [],
   "source": [
    "persona = \"spelling-mistake\"\n",
    "persona_description= all_personas[persona]\n",
    "description = 'laptop'\n",
    "print(prompt)"
   ]
  },
  {
   "cell_type": "code",
   "execution_count": null,
   "metadata": {},
   "outputs": [],
   "source": [
    "llm.invoke([prompt])"
   ]
  },
  {
   "cell_type": "code",
   "execution_count": null,
   "metadata": {},
   "outputs": [],
   "source": [
    "llm_reflection = initialize_llm(temperature=0, streaming=True)\n"
   ]
  },
  {
   "cell_type": "code",
   "execution_count": null,
   "metadata": {},
   "outputs": [],
   "source": [
    "prompt_reflection = f\"\"\"'I need to purchase a laptop for work purposes.' \n",
    "do you think above request is made by a person having characteristics :{persona_description}. give the answer as a tuple - (yes/no, reason)\n",
    "\"\"\"\n",
    "\n",
    "print(prompt_reflection)"
   ]
  },
  {
   "cell_type": "code",
   "execution_count": null,
   "metadata": {},
   "outputs": [],
   "source": [
    "llm.invoke([prompt_reflection])"
   ]
  }
 ],
 "metadata": {
  "kernelspec": {
   "display_name": "llm_tree_search",
   "language": "python",
   "name": "python3"
  },
  "language_info": {
   "codemirror_mode": {
    "name": "ipython",
    "version": 3
   },
   "file_extension": ".py",
   "mimetype": "text/x-python",
   "name": "python",
   "nbconvert_exporter": "python",
   "pygments_lexer": "ipython3",
   "version": "3.11.1"
  }
 },
 "nbformat": 4,
 "nbformat_minor": 2
}
