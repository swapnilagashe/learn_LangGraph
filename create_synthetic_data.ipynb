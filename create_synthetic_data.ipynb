{
 "cells": [
  {
   "cell_type": "code",
   "execution_count": null,
   "metadata": {},
   "outputs": [],
   "source": [
    "from langchain.prompts import FewShotPromptTemplate, PromptTemplate\n"
   ]
  },
  {
   "cell_type": "code",
   "execution_count": null,
   "metadata": {},
   "outputs": [],
   "source": [
    "all_personas = {\n",
    "    'verbose':\n",
    "        'You write longer complete sentences that are friendlier and generally include punctuation.',\n",
    "    'concise':\n",
    "        'You write direct queries with minimal non-essential text. You usually omit capitalization and filler phrases',\n",
    "    'step-by-step':\n",
    "        'You summarize the goal of each step before explaining the detailed instructions.',\n",
    "    'casual':\n",
    "        'You use informal language that may not directly reference all the details',\n",
    "    'formal':\n",
    "        'You like to provide detailed information and formal language.',\n",
    "    'spelling-mistake':\n",
    "        'You often make spelling mistakes'\n",
    "}\n",
    "\n",
    "def persona_dict(persona):\n",
    "    assert persona in all_personas\n",
    "    return {\"persona_type\": persona, \"persona_description\": all_personas[persona]}\n",
    "\n",
    "# example\n",
    "print(persona_dict('concise'))"
   ]
  },
  {
   "cell_type": "code",
   "execution_count": null,
   "metadata": {},
   "outputs": [],
   "source": [
    "prompt = f\"\"\"\\\n",
    "You work for a corporate business and as an employee, you want to buy/procure some goods or services on behalf of your organisation.\n",
    "You will be given a description of item/service from which you need to construct your request. You will put the request into an AI Assitant.\n",
    "Extract the basic information such as amount, quantity, business justification etc if present, from the given fields in order to create a simple one line request using them.\n",
    "Use only minimal information as you can provide the details later.\n",
    "\n",
    "Make the request concise and simple. Use given description judiciously and include important information. Feel free to add more information.\n",
    "If any additional preferences are given, use them during sentence construction as well.\n",
    "Instructions:\n",
    "- You are a person having a persona that matches the given persona description. Act accordingly.\n",
    "item_or_service_description:\n",
    "{description}\n",
    "Persona description:\n",
    "{persona}:{persona_description}\n",
    "Request:\"\"\"\n"
   ]
  },
  {
   "cell_type": "code",
   "execution_count": null,
   "metadata": {},
   "outputs": [],
   "source": [
    "persona = \"spelling-mistake\"\n",
    "persona_description= all_personas[persona]\n",
    "description = 'laptop'\n",
    "print(prompt)"
   ]
  },
  {
   "cell_type": "code",
   "execution_count": null,
   "metadata": {},
   "outputs": [],
   "source": [
    "llm.invoke([prompt])"
   ]
  },
  {
   "cell_type": "code",
   "execution_count": null,
   "metadata": {},
   "outputs": [],
   "source": [
    "llm_reflection = initialize_llm(temperature=0, streaming=True)\n"
   ]
  },
  {
   "cell_type": "code",
   "execution_count": null,
   "metadata": {},
   "outputs": [],
   "source": [
    "prompt_reflection = f\"\"\"'I need to purchase a laptop for work purposes.' \n",
    "do you think above request is made by a person having characteristics :{persona_description}. give the answer as a tuple - (yes/no, reason)\n",
    "\"\"\"\n",
    "\n",
    "print(prompt_reflection)"
   ]
  },
  {
   "cell_type": "code",
   "execution_count": null,
   "metadata": {},
   "outputs": [],
   "source": [
    "llm.invoke([prompt_reflection])"
   ]
  }
 ],
 "metadata": {
  "language_info": {
   "name": "python"
  }
 },
 "nbformat": 4,
 "nbformat_minor": 2
}
