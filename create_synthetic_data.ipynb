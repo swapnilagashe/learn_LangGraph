{
 "cells": [
  {
   "cell_type": "code",
   "execution_count": 157,
   "metadata": {},
   "outputs": [],
   "source": [
    "from langchain.prompts import FewShotPromptTemplate, PromptTemplate\n",
    "import boto3\n",
    "import os\n",
    "from dotenv import load_dotenv\n",
    "import pandas as pd\n",
    "import random\n",
    "from langchain_openai.chat_models import AzureChatOpenAI\n",
    "from langchain_core.messages import AIMessage, BaseMessage, HumanMessage,SystemMessage\n",
    "from langchain_core.prompts import ChatPromptTemplate, MessagesPlaceholder\n",
    "from langchain_experimental.synthetic_data import create_data_generation_chain\n",
    "from langchain_core.output_parsers import JsonOutputParser\n",
    "from langchain_core.pydantic_v1 import BaseModel, Field\n",
    "\n",
    "from typing import List\n",
    "\n",
    "from langchain.output_parsers import PydanticOutputParser\n",
    "from langchain_core.prompts import PromptTemplate\n",
    "from langchain_core.pydantic_v1 import BaseModel, Field, validator\n",
    "from langchain_openai import ChatOpenAI\n",
    "from langchain.output_parsers import PydanticOutputParser\n",
    "\n"
   ]
  },
  {
   "cell_type": "code",
   "execution_count": 2,
   "metadata": {},
   "outputs": [],
   "source": [
    "load_dotenv()\n",
    "s3r = boto3.client('s3', \n",
    "                   aws_access_key_id=os.environ[\"DEV_ACCESS_KEY\"], \n",
    "                   aws_secret_access_key=os.environ[\"DEV_SECRET_ACCESS_KEY\"])"
   ]
  },
  {
   "cell_type": "markdown",
   "metadata": {},
   "source": [
    "### Download test data from dev s3"
   ]
  },
  {
   "cell_type": "code",
   "execution_count": 3,
   "metadata": {},
   "outputs": [],
   "source": [
    "name = f\"df_test_v1.xlsx\"\n",
    "fullname = f'swapnil/form_selection_core/excel/' + name\n",
    "s3r.download_file(Bucket = \"datainsights-shared-coupadev-com\", Key = fullname, Filename = name)"
   ]
  },
  {
   "cell_type": "markdown",
   "metadata": {},
   "source": [
    "## load test data"
   ]
  },
  {
   "cell_type": "code",
   "execution_count": 4,
   "metadata": {},
   "outputs": [
    {
     "data": {
      "text/html": [
       "<div>\n",
       "<style scoped>\n",
       "    .dataframe tbody tr th:only-of-type {\n",
       "        vertical-align: middle;\n",
       "    }\n",
       "\n",
       "    .dataframe tbody tr th {\n",
       "        vertical-align: top;\n",
       "    }\n",
       "\n",
       "    .dataframe thead th {\n",
       "        text-align: right;\n",
       "    }\n",
       "</style>\n",
       "<table border=\"1\" class=\"dataframe\">\n",
       "  <thead>\n",
       "    <tr style=\"text-align: right;\">\n",
       "      <th></th>\n",
       "      <th>instance</th>\n",
       "      <th>easy_form_widget_response_id</th>\n",
       "      <th>updated_at</th>\n",
       "      <th>easy_form_id</th>\n",
       "      <th>easy_form_widget_id</th>\n",
       "      <th>easy_form_response_id</th>\n",
       "      <th>user_submitted_description</th>\n",
       "      <th>easy_form_widget_response_type</th>\n",
       "      <th>backing_attribute</th>\n",
       "      <th>field_name</th>\n",
       "      <th>...</th>\n",
       "      <th>subject_type</th>\n",
       "      <th>status</th>\n",
       "      <th>easy_form_name</th>\n",
       "      <th>easy_form_model</th>\n",
       "      <th>easy_form_status</th>\n",
       "      <th>easy_form_description</th>\n",
       "      <th>form_type</th>\n",
       "      <th>requistion_line_id</th>\n",
       "      <th>header_id</th>\n",
       "      <th>channel</th>\n",
       "    </tr>\n",
       "  </thead>\n",
       "  <tbody>\n",
       "    <tr>\n",
       "      <th>0</th>\n",
       "      <td>cbre</td>\n",
       "      <td>NaN</td>\n",
       "      <td>2023-11-01 11:09:43</td>\n",
       "      <td>NaN</td>\n",
       "      <td>NaN</td>\n",
       "      <td>NaN</td>\n",
       "      <td>\"Warning Trip Hazard\" Sign 210mm x 148mm</td>\n",
       "      <td>NaN</td>\n",
       "      <td>NaN</td>\n",
       "      <td>NaN</td>\n",
       "      <td>...</td>\n",
       "      <td>NaN</td>\n",
       "      <td>NaN</td>\n",
       "      <td>NaN</td>\n",
       "      <td>NaN</td>\n",
       "      <td>NaN</td>\n",
       "      <td>NaN</td>\n",
       "      <td>freeform</td>\n",
       "      <td>5889876.0</td>\n",
       "      <td>3013667.0</td>\n",
       "      <td>freeform</td>\n",
       "    </tr>\n",
       "    <tr>\n",
       "      <th>1</th>\n",
       "      <td>monash</td>\n",
       "      <td>NaN</td>\n",
       "      <td>2023-09-11 00:20:35</td>\n",
       "      <td>NaN</td>\n",
       "      <td>NaN</td>\n",
       "      <td>NaN</td>\n",
       "      <td>DEBDEN DAYPLANNER refil</td>\n",
       "      <td>NaN</td>\n",
       "      <td>NaN</td>\n",
       "      <td>NaN</td>\n",
       "      <td>...</td>\n",
       "      <td>NaN</td>\n",
       "      <td>NaN</td>\n",
       "      <td>NaN</td>\n",
       "      <td>NaN</td>\n",
       "      <td>NaN</td>\n",
       "      <td>NaN</td>\n",
       "      <td>freeform</td>\n",
       "      <td>1091278.0</td>\n",
       "      <td>479534.0</td>\n",
       "      <td>freeform</td>\n",
       "    </tr>\n",
       "  </tbody>\n",
       "</table>\n",
       "<p>2 rows × 24 columns</p>\n",
       "</div>"
      ],
      "text/plain": [
       "  instance  easy_form_widget_response_id          updated_at  easy_form_id  \\\n",
       "0     cbre                           NaN 2023-11-01 11:09:43           NaN   \n",
       "1   monash                           NaN 2023-09-11 00:20:35           NaN   \n",
       "\n",
       "   easy_form_widget_id  easy_form_response_id  \\\n",
       "0                  NaN                    NaN   \n",
       "1                  NaN                    NaN   \n",
       "\n",
       "                 user_submitted_description easy_form_widget_response_type  \\\n",
       "0  \"Warning Trip Hazard\" Sign 210mm x 148mm                            NaN   \n",
       "1                   DEBDEN DAYPLANNER refil                            NaN   \n",
       "\n",
       "  backing_attribute field_name  ... subject_type status  easy_form_name  \\\n",
       "0               NaN        NaN  ...          NaN    NaN             NaN   \n",
       "1               NaN        NaN  ...          NaN    NaN             NaN   \n",
       "\n",
       "  easy_form_model easy_form_status easy_form_description form_type  \\\n",
       "0             NaN              NaN                   NaN  freeform   \n",
       "1             NaN              NaN                   NaN  freeform   \n",
       "\n",
       "  requistion_line_id  header_id   channel  \n",
       "0          5889876.0  3013667.0  freeform  \n",
       "1          1091278.0   479534.0  freeform  \n",
       "\n",
       "[2 rows x 24 columns]"
      ]
     },
     "execution_count": 4,
     "metadata": {},
     "output_type": "execute_result"
    }
   ],
   "source": [
    "test_data_path = \"df_test_v1.xlsx\"\n",
    "test_data = pd.read_excel(test_data_path)\n",
    "test_data.head(2)"
   ]
  },
  {
   "cell_type": "markdown",
   "metadata": {},
   "source": [
    "### generate synthetic data"
   ]
  },
  {
   "cell_type": "code",
   "execution_count": 5,
   "metadata": {},
   "outputs": [],
   "source": [
    "def initialize_llm(**kwargs):\n",
    "    # initialize llm\n",
    "    llm = AzureChatOpenAI(\n",
    "        deployment_name=os.environ[\"AZURE_OPENAI_DEPLOYMENT\"],\n",
    "        api_key=os.environ[\"AZURE_OPENAI_API_KEY\"],\n",
    "        azure_endpoint=os.environ[\"AZURE_OPENAI_ENDPOINT\"],\n",
    "        api_version=os.environ[\"AZURE_OPENAI_API_VERSION\"],\n",
    "        **kwargs\n",
    "    )\n",
    "    return llm\n"
   ]
  },
  {
   "cell_type": "code",
   "execution_count": 6,
   "metadata": {},
   "outputs": [],
   "source": [
    "llm= initialize_llm(temperature = 0.5)"
   ]
  },
  {
   "cell_type": "code",
   "execution_count": 7,
   "metadata": {},
   "outputs": [],
   "source": [
    "all_personas = ['verbose','concise','step-by-step','casual','formal','spelling-mistake']\n",
    "personas_attributes = {\n",
    "    'verbose':\n",
    "        'You write longer complete sentences that are friendlier and generally include punctuation.',\n",
    "    'concise':\n",
    "        'You write direct queries with minimal non-essential text. You usually omit capitalization and filler phrases',\n",
    "    'step-by-step':\n",
    "        'You summarize the goal of each step before explaining the detailed instructions.',\n",
    "    'casual':\n",
    "        'You use informal language that may not directly reference all the details',\n",
    "    'formal':\n",
    "        'You like to provide detailed information and formal language.',\n",
    "    'spelling-mistake':\n",
    "        'You often make spelling mistakes'\n",
    "}"
   ]
  },
  {
   "cell_type": "code",
   "execution_count": 118,
   "metadata": {},
   "outputs": [],
   "source": [
    "prompt = PromptTemplate.from_template(\"\"\"You work for a corporate business and as an employee, you want to buy/procure some goods or services on behalf of your organisation.\n",
    "You will be given a description of item/service from which you need to construct your request. You will put the request into an AI Assitant.\n",
    "Extract the basic information such as amount, quantity, business justification etc if present, from the given fields in order to create a simple one line request using them.\n",
    "Use only minimal information as you can provide the details later.\n",
    "\n",
    "Make the request concise and simple. Use given description judiciously and include important information. Feel free to add more information.\n",
    "If any additional preferences are given, use them during sentence construction as well.\n",
    "Instructions:\n",
    "- You are a person having a persona that matches the given persona description. Act accordingly.\n",
    "item_or_service_description:\n",
    "{description}\n",
    "Persona description:\n",
    "{persona_description}\n",
    "Request:\"\"\")"
   ]
  },
  {
   "cell_type": "code",
   "execution_count": 144,
   "metadata": {},
   "outputs": [],
   "source": [
    "generate = create_data_generation_chain(llm, prompt)\n"
   ]
  },
  {
   "cell_type": "code",
   "execution_count": 145,
   "metadata": {},
   "outputs": [
    {
     "name": "stdout",
     "output_type": "stream",
     "text": [
      "{'description': 'Warning Trip Hazard, Sign 210mm x 148mm', 'persona_description': 'You often make spelling mistakes', 'text': 'Please procure a Warning Trip Hazard Sign, size 210mm x 148mm.'}"
     ]
    }
   ],
   "source": [
    "for chunk in generate.stream({\n",
    "                \"description\": item_description,\n",
    "                \"persona_description\":persona_description,\n",
    "            }):\n",
    "    print(chunk, end=\"\")"
   ]
  },
  {
   "cell_type": "code",
   "execution_count": 146,
   "metadata": {},
   "outputs": [
    {
     "data": {
      "text/plain": [
       "{'description': 'Warning Trip Hazard, Sign 210mm x 148mm',\n",
       " 'persona_description': 'You often make spelling mistakes',\n",
       " 'text': 'Please procure a Warning Trip Hazard Sign, size 210mm x 148mm.'}"
      ]
     },
     "execution_count": 146,
     "metadata": {},
     "output_type": "execute_result"
    }
   ],
   "source": [
    "chunk"
   ]
  },
  {
   "cell_type": "markdown",
   "metadata": {},
   "source": [
    "### reflection"
   ]
  },
  {
   "cell_type": "code",
   "execution_count": 147,
   "metadata": {},
   "outputs": [],
   "source": [
    "llm_reflection = initialize_llm(temperature=0, streaming=True)"
   ]
  },
  {
   "cell_type": "code",
   "execution_count": 193,
   "metadata": {},
   "outputs": [],
   "source": [
    "reflection_template = \"\"\"\n",
    "\"You are expert at analysing synthetic queries created to train a chatbot on procurement requests. Following is the instance of generated data. \n",
    "for example if the Persona description says that you make spelling mistakes then there should be atleast one spelling mistake in the generated query otherwise the generated query would be invalid.\n",
    "original item or service description:\n",
    "{description}\n",
    "Persona description(person making the request):\n",
    "{persona_description}\n",
    "Generated query: {text}.\n",
    "\\n{format_instructions}\\n\n",
    "\"\"\""
   ]
  },
  {
   "cell_type": "code",
   "execution_count": 194,
   "metadata": {},
   "outputs": [
    {
     "data": {
      "text/plain": [
       "{'description': 'Warning Trip Hazard, Sign 210mm x 148mm',\n",
       " 'persona_description': 'You often make spelling mistakes',\n",
       " 'text': 'Please procure a Warning Trip Hazard Sign, size 210mm x 148mm.'}"
      ]
     },
     "execution_count": 194,
     "metadata": {},
     "output_type": "execute_result"
    }
   ],
   "source": [
    "chunk"
   ]
  },
  {
   "cell_type": "code",
   "execution_count": 195,
   "metadata": {},
   "outputs": [],
   "source": [
    "class IsQueryValid(BaseModel):\n",
    "    isQueryValid: bool = Field(description=\"Whether the generated query for item/service description accurately follows persona description\")\n",
    "    observation: str = Field(description=\"Suggestion to improve the generated query take to make the query accurately follow persona description\")\n",
    "\n",
    "\n",
    "# Set up a parser + inject instructions into the prompt template.\n",
    "reflection_parser = PydanticOutputParser(pydantic_object=IsQueryValid)\n",
    "\n",
    "reflection_prompt = PromptTemplate(\n",
    "    template=reflection_template,\n",
    "    input_variables=['description', 'persona_description', 'text'],\n",
    "    partial_variables={\"format_instructions\": parser.get_format_instructions()},\n",
    ")\n",
    "\n",
    "reflection_chain = reflection_prompt | llm_reflection | reflection_parser"
   ]
  },
  {
   "cell_type": "code",
   "execution_count": 196,
   "metadata": {},
   "outputs": [],
   "source": [
    "reflection_result = reflection_chain.invoke(chunk)"
   ]
  },
  {
   "cell_type": "code",
   "execution_count": 198,
   "metadata": {},
   "outputs": [
    {
     "data": {
      "text/plain": [
       "IsQueryValid(isQueryValid=True, observation='No spelling mistakes found in the generated query.')"
      ]
     },
     "execution_count": 198,
     "metadata": {},
     "output_type": "execute_result"
    }
   ],
   "source": [
    "reflection_result"
   ]
  },
  {
   "cell_type": "markdown",
   "metadata": {},
   "source": [
    "### Archive"
   ]
  },
  {
   "cell_type": "code",
   "execution_count": null,
   "metadata": {},
   "outputs": [],
   "source": [
    "item_description =test_data['user_submitted_description'][0]\n",
    "persona = random.choice(all_personas)\n",
    "persona_description = personas_attributes[persona]\n",
    "description, persona,persona_description\n",
    "\n",
    "ret = generate.invoke({\n",
    "                \"description\": item_description,\n",
    "                \"persona\": persona,\n",
    "                \"persona_description\":persona_description,\n",
    "            })"
   ]
  }
 ],
 "metadata": {
  "kernelspec": {
   "display_name": "llm_tree_search",
   "language": "python",
   "name": "python3"
  },
  "language_info": {
   "codemirror_mode": {
    "name": "ipython",
    "version": 3
   },
   "file_extension": ".py",
   "mimetype": "text/x-python",
   "name": "python",
   "nbconvert_exporter": "python",
   "pygments_lexer": "ipython3",
   "version": "3.11.1"
  }
 },
 "nbformat": 4,
 "nbformat_minor": 2
}
