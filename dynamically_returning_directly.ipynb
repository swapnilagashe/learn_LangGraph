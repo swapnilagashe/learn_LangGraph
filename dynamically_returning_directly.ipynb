{
 "cells": [
  {
   "cell_type": "code",
   "execution_count": 1,
   "metadata": {},
   "outputs": [],
   "source": [
    "import os\n",
    "import getpass\n",
    "from langchain import hub\n",
    "from langchain.agents import create_openai_functions_agent\n",
    "from langchain_openai.chat_models import ChatOpenAI\n",
    "from langchain_community.tools.tavily_search import TavilySearchResults\n",
    "from langchain_openai.chat_models import AzureChatOpenAI\n",
    "from langchain_community.utilities.tavily_search import TavilySearchAPIWrapper\n",
    "from langgraph.prebuilt.tool_executor import ToolExecutor\n",
    "from langchain_core.agents import AgentAction, AgentFinish\n",
    "from IPython.display import Image\n",
    "from langchain_core.runnables.graph import CurveStyle, NodeColors, MermaidDrawMethod\n",
    "from langgraph.graph import END, StateGraph\n"
   ]
  },
  {
   "cell_type": "code",
   "execution_count": 2,
   "metadata": {},
   "outputs": [],
   "source": [
    "def initialize_llm(**kwargs):\n",
    "    # initialize llm\n",
    "    llm = AzureChatOpenAI(\n",
    "        deployment_name=os.environ[\"AZURE_OPENAI_DEPLOYMENT\"],\n",
    "        api_key=os.environ[\"AZURE_OPENAI_API_KEY\"],\n",
    "        azure_endpoint=os.environ[\"AZURE_OPENAI_ENDPOINT\"],\n",
    "        api_version=os.environ[\"AZURE_OPENAI_API_VERSION\"],\n",
    "        **kwargs\n",
    "    )\n",
    "    return llm"
   ]
  },
  {
   "cell_type": "code",
   "execution_count": 3,
   "metadata": {},
   "outputs": [
    {
     "data": {
      "text/plain": [
       "True"
      ]
     },
     "execution_count": 3,
     "metadata": {},
     "output_type": "execute_result"
    }
   ],
   "source": [
    "from dotenv import load_dotenv\n",
    "load_dotenv()"
   ]
  },
  {
   "cell_type": "code",
   "execution_count": 4,
   "metadata": {},
   "outputs": [],
   "source": [
    "llm = initialize_llm(temperature=0.5, streaming=True)\n"
   ]
  },
  {
   "cell_type": "code",
   "execution_count": 5,
   "metadata": {},
   "outputs": [],
   "source": [
    "from langchain_core.pydantic_v1 import BaseModel, Field\n",
    "class SearchTool(BaseModel):\n",
    "    \"\"\"Look up things online, optionally returning directly\"\"\"\n",
    "    query: str = Field(description=\"query to look up online\")\n",
    "    return_direct: bool = Field(\n",
    "        description=\"whether or the result of this should be returned directly to the user without you seeing what it is\",\n",
    "        default=False\n",
    "    )"
   ]
  },
  {
   "cell_type": "code",
   "execution_count": 6,
   "metadata": {},
   "outputs": [],
   "source": [
    "search_tool = TavilySearchResults(max_results=1, args_schema=SearchTool)\n",
    "tools = [search_tool]\n",
    "tool_executor = ToolExecutor(tools=tools)"
   ]
  },
  {
   "cell_type": "code",
   "execution_count": 7,
   "metadata": {},
   "outputs": [],
   "source": [
    "from langchain.tools.render import format_tool_to_openai_function\n",
    "from langchain_core.utils.function_calling import convert_to_openai_function\n",
    "functions = [convert_to_openai_function(tool) for tool in tools]\n",
    "llm_with_tools = llm.bind_functions(functions)"
   ]
  },
  {
   "cell_type": "code",
   "execution_count": 8,
   "metadata": {},
   "outputs": [],
   "source": [
    "p =llm_with_tools.invoke(\"what is the weather today in the United States\")\n",
    "p"
   ]
  },
  {
   "cell_type": "code",
   "execution_count": 9,
   "metadata": {},
   "outputs": [],
   "source": [
    "from typing import TypedDict, Annotated, Sequence\n",
    "import operator\n",
    "from langchain_core.messages import BaseMessage\n",
    "\n",
    "class AgentState(TypedDict):\n",
    "    messages:Annotated[Sequence[BaseMessage],operator.add]\n",
    "    "
   ]
  },
  {
   "cell_type": "code",
   "execution_count": 10,
   "metadata": {},
   "outputs": [],
   "source": [
    "from langgraph.prebuilt import ToolInvocation\n",
    "import json\n",
    "from langchain_core.messages import FunctionMessage"
   ]
  },
  {
   "cell_type": "code",
   "execution_count": 12,
   "metadata": {},
   "outputs": [],
   "source": [
    "def should_continue(state):\n",
    "    messages =state['messages']\n",
    "    last_message =  messages[-1]\n",
    "    # if there is no function call then we finish\n",
    "    if \"function_call\" not in last_message.additional_kwargs:\n",
    "        return \"end\"\n",
    "    else:\n",
    "        arguments = json.loads(last_message.additional_kwargs[\"function_call\"][\"arguments\"])\n",
    "        if arguments.get(\"return_direct\",False): # False here means that if return_direct is not present it will return False, and well go to continue\n",
    "            return \"final\"\n",
    "        else:\n",
    "            return \"continue\""
   ]
  },
  {
   "cell_type": "code",
   "execution_count": 13,
   "metadata": {},
   "outputs": [],
   "source": [
    "def call_model(state):\n",
    "    messages =state['messages']\n",
    "    response =  llm_with_tools.invoke(messages)\n",
    "    return {'messages':[response]}"
   ]
  },
  {
   "cell_type": "code",
   "execution_count": 16,
   "metadata": {},
   "outputs": [],
   "source": [
    "def call_tool(state):\n",
    "    messages = state['messages']\n",
    "    # based on the continue condition\n",
    "    # we know that the last message involves function call\n",
    "    last_message =  messages[-1]\n",
    "    \n",
    "    # we construct a tool invocation from the function call\n",
    "    tool_name = last_message.additional_kwargs[\"function_call\"][\"name\"]\n",
    "    arguments = json.loads(last_message.additional_kwargs[\"function_call\"][\"arguments\"]) # same as tool input\n",
    "    \n",
    "    \n",
    "    # agent is returning a value for return_direct but we dont want to pass it to the tool(since tool doesnt use this)\n",
    "    # so we delete it if present before calling the tool\n",
    "    if tool_name ==\"tavily_search_results_json\":\n",
    "        if \"return_direct\" in arguments:\n",
    "            del arguments[\"return_direct\"]\n",
    "    action = ToolInvocation(tool =tool_name, tool_input =arguments,)\n",
    "    response  = tool_executor.invoke(action)\n",
    "    function_message = FunctionMessage(content = str(response),name = action.tool)\n",
    "    return {'messages':[function_message]}"
   ]
  },
  {
   "cell_type": "code",
   "execution_count": 17,
   "metadata": {},
   "outputs": [],
   "source": [
    "workflow = StateGraph(AgentState)\n",
    "\n",
    "# create nodes\n",
    "workflow.add_node(\"agent\",call_model)\n",
    "workflow.add_node(\"action\",call_tool)\n",
    "workflow.add_node(\"final\",call_tool)\n",
    "\n",
    "workflow.set_entry_point(\"agent\")\n",
    "\n",
    "# add conditional edge\n",
    "workflow.add_conditional_edges(\n",
    "    \"agent\",\n",
    "    should_continue,\n",
    "    {\"continue\":\"action\",\n",
    "     \"final\":\"final\",\n",
    "    \"end\":END\n",
    "    }\n",
    ")\n",
    "\n",
    "# add a normal edge\n",
    "# because we always want to go to the agent after going to the action\n",
    "workflow.add_edge(\"action\",\"agent\")\n",
    "workflow.add_edge(\"final\",END)\n",
    "\n",
    "app = workflow.compile()"
   ]
  },
  {
   "cell_type": "code",
   "execution_count": 18,
   "metadata": {},
   "outputs": [
    {
     "name": "stdout",
     "output_type": "stream",
     "text": [
      "                    +-----------+                   \n",
      "                    | __start__ |                   \n",
      "                    +-----------+                   \n",
      "                          *                         \n",
      "                          *                         \n",
      "                          *                         \n",
      "                      +-------+                     \n",
      "                      | agent |                     \n",
      "                      +-------+***                  \n",
      "                   ***            ****              \n",
      "                  *                   ***           \n",
      "                **                       ***        \n",
      "    +-----------------+                     **      \n",
      "    | should_continue |                      *      \n",
      "    +-----------------+****                  *      \n",
      "         *         **      ******            *      \n",
      "       **            *           *****       *      \n",
      "      *               **              ***    *      \n",
      "+-------+               *               +--------+  \n",
      "| final |             **                | action |  \n",
      "+-------+            *                  +--------+  \n",
      "         *         **                               \n",
      "          **     **                                 \n",
      "            *   *                                   \n",
      "        +---------+                                 \n",
      "        | __end__ |                                 \n",
      "        +---------+                                 \n"
     ]
    }
   ],
   "source": [
    "app.get_graph().print_ascii()\n"
   ]
  },
  {
   "cell_type": "code",
   "execution_count": 19,
   "metadata": {},
   "outputs": [
    {
     "data": {
      "image/jpeg": "[encoded data removed]",
      "text/plain": [
       "<IPython.core.display.Image object>"
      ]
     },
     "execution_count": 19,
     "metadata": {},
     "output_type": "execute_result"
    }
   ],
   "source": [
    "Image(app.get_graph().draw_mermaid_png(\n",
    "    draw_method=MermaidDrawMethod.API,\n",
    "))"
   ]
  },
  {
   "cell_type": "code",
   "execution_count": 20,
   "metadata": {},
   "outputs": [
    {
     "name": "stdout",
     "output_type": "stream",
     "text": [
      "output from node agent\n",
      "--------------------------------\n",
      "{'messages': [AIMessage(content='', additional_kwargs={'function_call': {'arguments': '{\\n  \"query\": \"weather in San Francisco\"\\n}', 'name': 'tavily_search_results_json'}}, response_metadata={'finish_reason': 'function_call'}, id='run-298a8ce1-cafc-4014-9de2-776eb7b8b78a-0')]}\n",
      "--------------------------------\n",
      "output from node action\n",
      "--------------------------------\n",
      "{'messages': [FunctionMessage(content='[{\\'url\\': \\'https://www.weatherapi.com/\\', \\'content\\': \"{\\'location\\': {\\'name\\': \\'San Francisco\\', \\'region\\': \\'California\\', \\'country\\': \\'United States of America\\', \\'lat\\': 37.78, \\'lon\\': -122.42, \\'tz_id\\': \\'America/Los_Angeles\\', \\'localtime_epoch\\': 1713649201, \\'localtime\\': \\'2024-04-20 14:40\\'}, \\'current\\': {\\'last_updated_epoch\\': 1713648600, \\'last_updated\\': \\'2024-04-20 14:30\\', \\'temp_c\\': 17.8, \\'temp_f\\': 64.0, \\'is_day\\': 1, \\'condition\\': {\\'text\\': \\'Sunny\\', \\'icon\\': \\'//cdn.weatherapi.com/weather/64x64/day/113.png\\', \\'code\\': 1000}, \\'wind_mph\\': 12.5, \\'wind_kph\\': 20.2, \\'wind_degree\\': 270, \\'wind_dir\\': \\'W\\', \\'pressure_mb\\': 1020.0, \\'pressure_in\\': 30.12, \\'precip_mm\\': 0.0, \\'precip_in\\': 0.0, \\'humidity\\': 60, \\'cloud\\': 0, \\'feelslike_c\\': 17.8, \\'feelslike_f\\': 64.0, \\'vis_km\\': 16.0, \\'vis_miles\\': 9.0, \\'uv\\': 5.0, \\'gust_mph\\': 13.9, \\'gust_kph\\': 22.3}}\"}]', name='tavily_search_results_json')]}\n",
      "--------------------------------\n",
      "output from node agent\n",
      "--------------------------------\n",
      "{'messages': [AIMessage(content='The current weather in San Francisco is sunny with a temperature of 64°F (17.8°C). The wind is coming from the west at 12.5 mph (20.2 kph). The humidity is 60% and there are no precipitation or cloud cover. The visibility is 9 miles (16 km) and the UV index is 5.', response_metadata={'finish_reason': 'stop'}, id='run-a472e167-e449-4f83-8bbf-cfb54a4ab22e-0')]}\n",
      "--------------------------------\n"
     ]
    }
   ],
   "source": [
    "from langchain_core.messages import HumanMessage\n",
    "inputs  = {\"messages\":[HumanMessage(content=\"what is the weather in sf\")]}\n",
    "for output in app.stream(inputs):\n",
    "    for key,value in output.items():\n",
    "        print(f\"output from node {key}\")\n",
    "        print(\"--------------------------------\")\n",
    "        print(value)\n",
    "        print(\"--------------------------------\")"
   ]
  },
  {
   "cell_type": "code",
   "execution_count": 21,
   "metadata": {},
   "outputs": [
    {
     "name": "stdout",
     "output_type": "stream",
     "text": [
      "output from node agent\n",
      "--------------------------------\n",
      "{'messages': [AIMessage(content='', additional_kwargs={'function_call': {'arguments': '{\\n  \"query\": \"weather in San Francisco\",\\n  \"return_direct\": true\\n}', 'name': 'tavily_search_results_json'}}, response_metadata={'finish_reason': 'function_call'}, id='run-1e871f12-b576-4949-9e2f-c58a8fd05375-0')]}\n",
      "--------------------------------\n",
      "output from node final\n",
      "--------------------------------\n",
      "{'messages': [FunctionMessage(content='[{\\'url\\': \\'https://www.weatherapi.com/\\', \\'content\\': \"{\\'location\\': {\\'name\\': \\'San Francisco\\', \\'region\\': \\'California\\', \\'country\\': \\'United States of America\\', \\'lat\\': 37.78, \\'lon\\': -122.42, \\'tz_id\\': \\'America/Los_Angeles\\', \\'localtime_epoch\\': 1713649201, \\'localtime\\': \\'2024-04-20 14:40\\'}, \\'current\\': {\\'last_updated_epoch\\': 1713648600, \\'last_updated\\': \\'2024-04-20 14:30\\', \\'temp_c\\': 17.8, \\'temp_f\\': 64.0, \\'is_day\\': 1, \\'condition\\': {\\'text\\': \\'Sunny\\', \\'icon\\': \\'//cdn.weatherapi.com/weather/64x64/day/113.png\\', \\'code\\': 1000}, \\'wind_mph\\': 12.5, \\'wind_kph\\': 20.2, \\'wind_degree\\': 270, \\'wind_dir\\': \\'W\\', \\'pressure_mb\\': 1020.0, \\'pressure_in\\': 30.12, \\'precip_mm\\': 0.0, \\'precip_in\\': 0.0, \\'humidity\\': 60, \\'cloud\\': 0, \\'feelslike_c\\': 17.8, \\'feelslike_f\\': 64.0, \\'vis_km\\': 16.0, \\'vis_miles\\': 9.0, \\'uv\\': 5.0, \\'gust_mph\\': 13.9, \\'gust_kph\\': 22.3}}\"}]', name='tavily_search_results_json')]}\n",
      "--------------------------------\n"
     ]
    }
   ],
   "source": [
    "inputs  = {\"messages\":[HumanMessage(content=\"what is the weather in sf, return the results directly by setting return_direct=true\")]}\n",
    "for output in app.stream(inputs):\n",
    "    for key,value in output.items():\n",
    "        print(f\"output from node {key}\")\n",
    "        print(\"--------------------------------\")\n",
    "        print(value)\n",
    "        print(\"--------------------------------\")"
   ]
  }
 ],
 "metadata": {
  "kernelspec": {
   "display_name": "llm_tree_search",
   "language": "python",
   "name": "python3"
  },
  "language_info": {
   "codemirror_mode": {
    "name": "ipython",
    "version": 3
   },
   "file_extension": ".py",
   "mimetype": "text/x-python",
   "name": "python",
   "nbconvert_exporter": "python",
   "pygments_lexer": "ipython3",
   "version": "3.11.1"
  }
 },
 "nbformat": 4,
 "nbformat_minor": 2
}
